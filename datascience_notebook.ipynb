{
  "nbformat": 4,
  "nbformat_minor": 0,
  "metadata": {
    "colab": {
      "provenance": [],
      "toc_visible": true,
      "authorship_tag": "ABX9TyMWjv/zfm9dOQM1BnqAiM0p",
      "include_colab_link": true
    },
    "kernelspec": {
      "name": "python3",
      "display_name": "Python 3"
    },
    "language_info": {
      "name": "python"
    }
  },
  "cells": [
    {
      "cell_type": "markdown",
      "metadata": {
        "id": "view-in-github",
        "colab_type": "text"
      },
      "source": [
        "<a href=\"https://colab.research.google.com/github/dipannita21/Datascience-Demo-2024/blob/main/datascience_notebook.ipynb\" target=\"_parent\"><img src=\"https://colab.research.google.com/assets/colab-badge.svg\" alt=\"Open In Colab\"/></a>"
      ]
    },
    {
      "cell_type": "markdown",
      "source": [
        "Ingest"
      ],
      "metadata": {
        "id": "OS4VDz5z88RR"
      }
    },
    {
      "cell_type": "code",
      "execution_count": null,
      "metadata": {
        "id": "xX6cy9u183gr"
      },
      "outputs": [],
      "source": []
    },
    {
      "cell_type": "markdown",
      "source": [
        "EDA"
      ],
      "metadata": {
        "id": "yoO1TfZz9Bt_"
      }
    },
    {
      "cell_type": "code",
      "source": [],
      "metadata": {
        "id": "q_jV50_H9bFM"
      },
      "execution_count": null,
      "outputs": []
    },
    {
      "cell_type": "markdown",
      "source": [
        "Modelling"
      ],
      "metadata": {
        "id": "Zy7h5c8O9H0q"
      }
    },
    {
      "cell_type": "code",
      "source": [],
      "metadata": {
        "id": "kUhRADEe-YdL"
      },
      "execution_count": null,
      "outputs": []
    },
    {
      "cell_type": "markdown",
      "source": [
        "# New Section"
      ],
      "metadata": {
        "id": "5zWXTbwb-Zov"
      }
    },
    {
      "cell_type": "markdown",
      "source": [
        "Classification Algorithm A"
      ],
      "metadata": {
        "id": "Tbx0AfQe9RoJ"
      }
    },
    {
      "cell_type": "markdown",
      "source": [
        "Classification Algorithm B"
      ],
      "metadata": {
        "id": "-Csgjs_2-Cgk"
      }
    },
    {
      "cell_type": "code",
      "source": [],
      "metadata": {
        "id": "66EyodTp9cVF"
      },
      "execution_count": null,
      "outputs": []
    },
    {
      "cell_type": "markdown",
      "source": [],
      "metadata": {
        "id": "i4arsDnX9d7v"
      }
    },
    {
      "cell_type": "markdown",
      "source": [
        "Conclusion"
      ],
      "metadata": {
        "id": "Uaz55QNY9eZF"
      }
    },
    {
      "cell_type": "code",
      "source": [],
      "metadata": {
        "id": "Mo0BhVec9nOn"
      },
      "execution_count": null,
      "outputs": []
    }
  ]
}